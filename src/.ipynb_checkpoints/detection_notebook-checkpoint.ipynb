{
 "cells": [
  {
   "cell_type": "code",
   "execution_count": 10,
   "metadata": {},
   "outputs": [],
   "source": [
    "import urllib.request\n",
    "import os\n",
    "import cv2  \n",
    "import numpy as np  \n",
    "from collections import defaultdict\n",
    "import json\n",
    "import pandas as pd\n",
    "import warnings\n",
    "\n",
    "warnings.filterwarnings('ignore')"
   ]
  },
  {
   "cell_type": "code",
   "execution_count": 2,
   "metadata": {},
   "outputs": [],
   "source": [
    "    def getFiles(filePath):\n",
    "        filenames_list = [line.rstrip('\\n') for line in open(filePath)]\n",
    "        output_path = filePath.split('.txt')[0]\n",
    "        outFileList = []\n",
    "        for filename in filenames_list:\n",
    "            out_file = output_path + \"/\" + filename.rsplit('/', 1)[-1]\n",
    "            os.makedirs(os.path.dirname(out_file), exist_ok=True)\n",
    "            urllib.request.urlretrieve(filename, out_file) \n",
    "            outFileList.append(out_file)\n",
    "        print('Retrieved data files......')\n",
    "        return outFileList"
   ]
  },
  {
   "cell_type": "code",
   "execution_count": 3,
   "metadata": {},
   "outputs": [],
   "source": [
    "def findMatchingCoordinates(imagePath, templatePath):\n",
    "    image = cv2.imread(imagePath, cv2.IMREAD_GRAYSCALE)  \n",
    "    template = cv2.imread(templatePath, cv2.IMREAD_GRAYSCALE)  \n",
    "\n",
    "    w, h = template.shape[::-1] \n",
    "    \n",
    "    image_w, image_h = image.shape[::-1]\n",
    "    \n",
    "    if(w > image_w or h > image_h):\n",
    "        return []\n",
    "\n",
    "    result = cv2.matchTemplate(image,template,cv2.TM_CCOEFF_NORMED)  \n",
    "    threshold = 0.99\n",
    "    loc = np.where( result >= threshold) \n",
    "    \n",
    "    crop_image_name = templatePath.rsplit('/', 1)[-1]\n",
    "    crop_image_name = crop_image_name.rsplit('.',1)[0]\n",
    "    for pt in zip(*loc[::-1]): \n",
    "        return [crop_image_name, [int(pt[0]),int(pt[1]), int(pt[0] + w), int(pt[1] + h)]]\n",
    "    return []"
   ]
  },
  {
   "cell_type": "code",
   "execution_count": 4,
   "metadata": {},
   "outputs": [],
   "source": [
    "def findAssociations(imagesFilePaths, cropsFilePaths, outputFilePath):\n",
    "    print('Finding Image Associations... ')\n",
    "    associations = defaultdict(list)\n",
    "    assoc_crops = []\n",
    "\n",
    "    for imagePath in imagesFilePaths:\n",
    "        for cropPath in cropsFilePaths:\n",
    "            assoc = findMatchingCoordinates(imagePath, cropPath)\n",
    "            image_name = imagePath.rsplit('/', 1)[-1]\n",
    "            image_name = image_name.rsplit('.',1)[0]\n",
    "            if assoc:\n",
    "                associations[image_name].append(assoc)\n",
    "                assoc_crops.append(cropPath)\n",
    "        if image_name not in associations:\n",
    "            associations[image_name] = []\n",
    "\n",
    "    nonassoc_crops = list(set(cropsFilePaths) - set(assoc_crops))\n",
    "    nonassoc_crops = [crop_path.rsplit('/', 1)[-1] for crop_path in nonassoc_crops]\n",
    "    nonassoc_crops = [crop_path.rsplit('.', 1)[0] for crop_path in nonassoc_crops]\n",
    "\n",
    "    associations['NA'] = nonassoc_crops\n",
    "    \n",
    "    os.makedirs(os.path.dirname(output_filePath), exist_ok=True)\n",
    "\n",
    "    with open(output_filePath, 'w') as fp:\n",
    "        json.dump(dict(associations), fp,indent=4, sort_keys=True)\n",
    "    print('Successfully written to output file. Check output folder for the json files... ')"
   ]
  },
  {
   "cell_type": "code",
   "execution_count": 8,
   "metadata": {},
   "outputs": [],
   "source": [
    "num_crops = len([name for name in os.listdir('../data/sample_testset/crops/')])\n",
    "\n",
    "def calc_precision_recall(row):\n",
    "    l1 = row['calc']\n",
    "    l2 = row['ground_truth']\n",
    "    \n",
    "    l2_alias = []\n",
    "    \n",
    "    if type(l2) == list:\n",
    "        l2_alias = l2\n",
    "        \n",
    "    tp = len([x for x in l2_alias if x in l1])\n",
    "    fp =len([x for x in l1 if x not in l2_alias]) \n",
    "    fn = len([x for x in l2_alias if x not in l1])\n",
    "    tn = num_crops - tp - fp - fn\n",
    "    \n",
    "    accuracy = (tp+tn)/num_crops\n",
    "    recall = tp/(tp + fn) if tp else 0\n",
    "    precision = tp/(tp + fp) if tp else 0\n",
    "    \n",
    "    return accuracy, recall, precision\n",
    "\n",
    "\n",
    "def evaluateAssociations(labelled_path, groundTruth_path):\n",
    "    print('Evaluating the model, calculating Accuracy, Precision, Recall... ')\n",
    "    calc_series = pd.read_json(labelled_path, typ='series')\n",
    "    calc_df= pd.DataFrame(calc_series)\n",
    "    calc_df = calc_df.rename(columns={0: \"calc\"})\n",
    "    \n",
    "    truth_series = pd.read_json('../data/sample_testset/out_res.json', typ='series')\n",
    "    truth_df= pd.DataFrame(truth_series)\n",
    "    truth_df = truth_df.rename(columns={0: \"ground_truth\"})\n",
    "    \n",
    "    result_df = pd.concat([truth_df,calc_df], axis=1)\n",
    "    \n",
    "    result_df['accuracy'], result_df['recall'], result_df['precision'] = zip(*result_df.apply(calc_precision_recall, axis=1))\n",
    "    \n",
    "    return result_df"
   ]
  },
  {
   "cell_type": "code",
   "execution_count": 6,
   "metadata": {},
   "outputs": [
    {
     "name": "stdout",
     "output_type": "stream",
     "text": [
      "Retrieved data files......\n",
      "Retrieved data files......\n",
      "Finding Image Associations... \n",
      "Successfully written to output file. Check output folder for the json files... \n"
     ]
    }
   ],
   "source": [
    "#for the train data given:\n",
    "imagesFilePaths = getFiles('../data/images.txt')\n",
    "cropsFilePaths = getFiles('../data/crops.txt')\n",
    "\n",
    "output_filePath = '../output/result.json'\n",
    "\n",
    "findAssociations(imagesFilePaths, cropsFilePaths, output_filePath)"
   ]
  },
  {
   "cell_type": "code",
   "execution_count": 11,
   "metadata": {},
   "outputs": [
    {
     "name": "stdout",
     "output_type": "stream",
     "text": [
      "Finding Image Associations... \n",
      "Successfully written to output file. Check output folder for the json files... \n"
     ]
    }
   ],
   "source": [
    "#for the sample test data given:\n",
    "imagesFilePaths = os.listdir('../data/sample_testset/images/')\n",
    "cropsFilePaths = os.listdir('../data/sample_testset/crops/')\n",
    "\n",
    "imagesFilePaths = ['../data/sample_testset/images/' + filename for filename in imagesFilePaths]\n",
    "cropsFilePaths = ['../data/sample_testset/crops/' + filename for filename in cropsFilePaths]\n",
    "\n",
    "\n",
    "output_filePath = '../output/sample_testset/result.json'\n",
    "\n",
    "findAssociations(imagesFilePaths, cropsFilePaths, output_filePath)"
   ]
  },
  {
   "cell_type": "code",
   "execution_count": 12,
   "metadata": {},
   "outputs": [
    {
     "name": "stdout",
     "output_type": "stream",
     "text": [
      "Evaluating the model, calculating Accuracy, Precision, Recall... \n"
     ]
    },
    {
     "data": {
      "text/html": [
       "<div>\n",
       "<style scoped>\n",
       "    .dataframe tbody tr th:only-of-type {\n",
       "        vertical-align: middle;\n",
       "    }\n",
       "\n",
       "    .dataframe tbody tr th {\n",
       "        vertical-align: top;\n",
       "    }\n",
       "\n",
       "    .dataframe thead th {\n",
       "        text-align: right;\n",
       "    }\n",
       "</style>\n",
       "<table border=\"1\" class=\"dataframe\">\n",
       "  <thead>\n",
       "    <tr style=\"text-align: right;\">\n",
       "      <th></th>\n",
       "      <th>accuracy</th>\n",
       "      <th>recall</th>\n",
       "      <th>precision</th>\n",
       "    </tr>\n",
       "  </thead>\n",
       "  <tbody>\n",
       "    <tr>\n",
       "      <td>count</td>\n",
       "      <td>63.000000</td>\n",
       "      <td>63.000000</td>\n",
       "      <td>63.000000</td>\n",
       "    </tr>\n",
       "    <tr>\n",
       "      <td>mean</td>\n",
       "      <td>0.978111</td>\n",
       "      <td>0.468254</td>\n",
       "      <td>0.542328</td>\n",
       "    </tr>\n",
       "    <tr>\n",
       "      <td>std</td>\n",
       "      <td>0.058342</td>\n",
       "      <td>0.431829</td>\n",
       "      <td>0.474217</td>\n",
       "    </tr>\n",
       "    <tr>\n",
       "      <td>min</td>\n",
       "      <td>0.540323</td>\n",
       "      <td>0.000000</td>\n",
       "      <td>0.000000</td>\n",
       "    </tr>\n",
       "    <tr>\n",
       "      <td>25%</td>\n",
       "      <td>0.979839</td>\n",
       "      <td>0.000000</td>\n",
       "      <td>0.000000</td>\n",
       "    </tr>\n",
       "    <tr>\n",
       "      <td>50%</td>\n",
       "      <td>0.991935</td>\n",
       "      <td>0.500000</td>\n",
       "      <td>0.500000</td>\n",
       "    </tr>\n",
       "    <tr>\n",
       "      <td>75%</td>\n",
       "      <td>0.991935</td>\n",
       "      <td>1.000000</td>\n",
       "      <td>1.000000</td>\n",
       "    </tr>\n",
       "    <tr>\n",
       "      <td>max</td>\n",
       "      <td>1.000000</td>\n",
       "      <td>1.000000</td>\n",
       "      <td>1.000000</td>\n",
       "    </tr>\n",
       "  </tbody>\n",
       "</table>\n",
       "</div>"
      ],
      "text/plain": [
       "        accuracy     recall  precision\n",
       "count  63.000000  63.000000  63.000000\n",
       "mean    0.978111   0.468254   0.542328\n",
       "std     0.058342   0.431829   0.474217\n",
       "min     0.540323   0.000000   0.000000\n",
       "25%     0.979839   0.000000   0.000000\n",
       "50%     0.991935   0.500000   0.500000\n",
       "75%     0.991935   1.000000   1.000000\n",
       "max     1.000000   1.000000   1.000000"
      ]
     },
     "execution_count": 12,
     "metadata": {},
     "output_type": "execute_result"
    }
   ],
   "source": [
    "#Evaluating the test data\n",
    "groundTruth_path = '../data/sample_testset/out_res.json'\n",
    "\n",
    "result_df = evaluateAssociations(output_filePath, groundTruth_path)\n",
    "\n",
    "result_df.describe()"
   ]
  },
  {
   "cell_type": "code",
   "execution_count": 25,
   "metadata": {},
   "outputs": [
    {
     "data": {
      "text/plain": [
       "0.9781105990783413"
      ]
     },
     "execution_count": 25,
     "metadata": {},
     "output_type": "execute_result"
    }
   ],
   "source": [
    "result_df['accuracy'].mean()"
   ]
  },
  {
   "cell_type": "code",
   "execution_count": null,
   "metadata": {},
   "outputs": [],
   "source": [
    "!python main.py --images ../data/sample_testset/images/ --crops ../data/sample_testset/crops/ --o ../output/sample_testset/result.json -g ../data/sample_testset/out_res.json"
   ]
  },
  {
   "cell_type": "code",
   "execution_count": null,
   "metadata": {},
   "outputs": [],
   "source": []
  },
  {
   "cell_type": "code",
   "execution_count": 47,
   "metadata": {},
   "outputs": [],
   "source": [
    "from matplotlib import pyplot as plt"
   ]
  },
  {
   "cell_type": "code",
   "execution_count": null,
   "metadata": {},
   "outputs": [],
   "source": [
    "img1 = cv2.imread('../data/img_19.jpg',0)\n",
    "img2 = cv2.imread('../data/image_2.jpg',0)\n",
    "\n",
    "\n",
    "# Initiate SIFT detector\n",
    "sift = cv2.xfeatures2d.SIFT_create()\n",
    "\n",
    "# find the keypoints and descriptors with SIFT\n",
    "kp1, des1 = sift.detectAndCompute(img1,None)\n",
    "kp2, des2 = sift.detectAndCompute(img2,None)\n",
    "\n",
    "\n",
    "# FLANN parameters\n",
    "FLANN_INDEX_KDTREE = 0\n",
    "index_params = dict(algorithm = FLANN_INDEX_KDTREE, trees = 5)\n",
    "search_params = dict(checks=50)   # or pass empty dictionary\n",
    "\n",
    "flann = cv2.FlannBasedMatcher(index_params,search_params)\n",
    "\n",
    "matches = flann.match(des1,des2)\n",
    "\n",
    "\n",
    "# Sort them in the order of their distance.\n",
    "matches = sorted(matches, key = lambda x:x.distance)\n",
    "\n",
    "good_matches = matches[:10]\n",
    "\n",
    "src_pts = np.float32([ kp1[m.queryIdx].pt for m in good_matches     ]).reshape(-1,1,2)\n",
    "dst_pts = np.float32([ kp2[m.trainIdx].pt for m in good_matches ]).reshape(-1,1,2)\n",
    "M, mask = cv2.findHomography(src_pts, dst_pts, cv2.RANSAC,8.0)\n",
    "matchesMask = mask.ravel().tolist()\n",
    "h,w = img1.shape[:2]\n",
    "pts = np.float32([ [0,0],[0,h-1],[w-1,h-1],[w-1,0] ]).reshape(-1,1,2)\n",
    "\n",
    "dst = cv2.perspectiveTransform(pts,M)\n",
    "\n",
    "print(dst[0], dst[2])\n",
    "dst += (w, 0)  # adding offset\n",
    "\n",
    "draw_params = dict(matchColor = (0,255,0), # draw matches in green color\n",
    "              singlePointColor = None,\n",
    "              matchesMask = matchesMask, # draw only inliers\n",
    "              flags = 2)\n",
    "\n",
    "img3 = cv2.drawMatches(img1,kp1,img2,kp2,good_matches, None,**draw_params)\n",
    "\n",
    "#Draw bounding box in Red\n",
    "img3 = cv2.polylines(img3, [np.int32(dst)], True, (0,0,255),3, cv2.LINE_AA)\n",
    "\n",
    "#or another option for display output\n",
    "plt.imshow(img3), plt.show()"
   ]
  }
 ],
 "metadata": {
  "kernelspec": {
   "display_name": "Python 3",
   "language": "python",
   "name": "python3"
  },
  "language_info": {
   "codemirror_mode": {
    "name": "ipython",
    "version": 3
   },
   "file_extension": ".py",
   "mimetype": "text/x-python",
   "name": "python",
   "nbconvert_exporter": "python",
   "pygments_lexer": "ipython3",
   "version": "3.7.1"
  }
 },
 "nbformat": 4,
 "nbformat_minor": 2
}
