{
 "cells": [
  {
   "cell_type": "code",
   "execution_count": 10,
   "metadata": {},
   "outputs": [],
   "source": [
    "import urllib.request\n",
    "import os\n",
    "import cv2  \n",
    "import numpy as np  \n",
    "from collections import defaultdict\n",
    "import json\n",
    "import pandas as pd\n",
    "import warnings\n",
    "\n",
    "warnings.filterwarnings('ignore')"
   ]
  },
  {
   "cell_type": "code",
   "execution_count": 2,
   "metadata": {},
   "outputs": [],
   "source": [
    "def getFiles(filePath):\n",
    "    filenames_list = [line.rstrip('\\n') for line in open(filePath)]\n",
    "    output_path = filePath.split('.txt')[0]\n",
    "    outFileList = []\n",
    "    for filename in filenames_list:\n",
    "        out_file = output_path + \"/\" + filename.rsplit('/', 1)[-1]\n",
    "        os.makedirs(os.path.dirname(out_file), exist_ok=True)\n",
    "        urllib.request.urlretrieve(filename, out_file) \n",
    "        outFileList.append(out_file)\n",
    "    print('Retrieved data files......')\n",
    "    return outFileList"
   ]
  },
  {
   "cell_type": "code",
   "execution_count": 3,
   "metadata": {},
   "outputs": [],
   "source": [
    "def findMatchingCoordinates(imagePath, templatePath):\n",
    "    image = cv2.imread(imagePath, cv2.IMREAD_GRAYSCALE)  \n",
    "    template = cv2.imread(templatePath, cv2.IMREAD_GRAYSCALE)  \n",
    "\n",
    "    w, h = template.shape[::-1] \n",
    "    \n",
    "    image_w, image_h = image.shape[::-1]\n",
    "    \n",
    "    if(w > image_w or h > image_h):\n",
    "        return []\n",
    "\n",
    "    result = cv2.matchTemplate(image,template,cv2.TM_CCOEFF_NORMED)  \n",
    "    threshold = 0.99\n",
    "    loc = np.where( result >= threshold) \n",
    "    \n",
    "    crop_image_name = templatePath.rsplit('/', 1)[-1]\n",
    "    crop_image_name = crop_image_name.rsplit('.',1)[0]\n",
    "    for pt in zip(*loc[::-1]): \n",
    "        return [crop_image_name, [int(pt[0]),int(pt[1]), int(pt[0] + w), int(pt[1] + h)]]\n",
    "    return []"
   ]
  },
  {
   "cell_type": "code",
   "execution_count": 4,
   "metadata": {},
   "outputs": [],
   "source": [
    "def findAssociations(imagesFilePaths, cropsFilePaths, outputFilePath):\n",
    "    print('Finding Image Associations... ')\n",
    "    associations = defaultdict(list)\n",
    "    assoc_crops = []\n",
    "\n",
    "    for imagePath in imagesFilePaths:\n",
    "        for cropPath in cropsFilePaths:\n",
    "            assoc = findMatchingCoordinates(imagePath, cropPath)\n",
    "            image_name = imagePath.rsplit('/', 1)[-1]\n",
    "            image_name = image_name.rsplit('.',1)[0]\n",
    "            if assoc:\n",
    "                associations[image_name].append(assoc)\n",
    "                assoc_crops.append(cropPath)\n",
    "        if image_name not in associations:\n",
    "            associations[image_name] = []\n",
    "\n",
    "    nonassoc_crops = list(set(cropsFilePaths) - set(assoc_crops))\n",
    "    nonassoc_crops = [crop_path.rsplit('/', 1)[-1] for crop_path in nonassoc_crops]\n",
    "    nonassoc_crops = [crop_path.rsplit('.', 1)[0] for crop_path in nonassoc_crops]\n",
    "\n",
    "    associations['NA'] = nonassoc_crops\n",
    "    \n",
    "    os.makedirs(os.path.dirname(output_filePath), exist_ok=True)\n",
    "\n",
    "    with open(output_filePath, 'w') as fp:\n",
    "        json.dump(dict(associations), fp,indent=4, sort_keys=True)\n",
    "    print('Successfully written to output file. Check output folder for the json files... ')"
   ]
  },
  {
   "cell_type": "code",
   "execution_count": 8,
   "metadata": {},
   "outputs": [],
   "source": [
    "num_crops = len([name for name in os.listdir('../data/sample_testset/crops/')])\n",
    "\n",
    "def calc_precision_recall(row):\n",
    "    l1 = row['calc']\n",
    "    l2 = row['ground_truth']\n",
    "    \n",
    "    l2_alias = []\n",
    "    \n",
    "    if type(l2) == list:\n",
    "        l2_alias = l2\n",
    "        \n",
    "    tp = len([x for x in l2_alias if x in l1])\n",
    "    fp =len([x for x in l1 if x not in l2_alias]) \n",
    "    fn = len([x for x in l2_alias if x not in l1])\n",
    "    tn = num_crops - tp - fp - fn\n",
    "    \n",
    "    accuracy = (tp+tn)/num_crops\n",
    "    recall = tp/(tp + fn) if tp else 0\n",
    "    precision = tp/(tp + fp) if tp else 0\n",
    "    \n",
    "    return accuracy, recall, precision\n",
    "\n",
    "\n",
    "def evaluateAssociations(labelled_path, groundTruth_path):\n",
    "    print('Evaluating the model, calculating Accuracy, Precision, Recall... ')\n",
    "    calc_series = pd.read_json(labelled_path, typ='series')\n",
    "    calc_df= pd.DataFrame(calc_series)\n",
    "    calc_df = calc_df.rename(columns={0: \"calc\"})\n",
    "    \n",
    "    truth_series = pd.read_json('../data/sample_testset/out_res.json', typ='series')\n",
    "    truth_df= pd.DataFrame(truth_series)\n",
    "    truth_df = truth_df.rename(columns={0: \"ground_truth\"})\n",
    "    \n",
    "    result_df = pd.concat([truth_df,calc_df], axis=1)\n",
    "    \n",
    "    result_df['accuracy'], result_df['recall'], result_df['precision'] = zip(*result_df.apply(calc_precision_recall, axis=1))\n",
    "    \n",
    "    return result_df"
   ]
  },
  {
   "cell_type": "code",
   "execution_count": 6,
   "metadata": {},
   "outputs": [
    {
     "name": "stdout",
     "output_type": "stream",
     "text": [
      "Retrieved data files......\n",
      "Retrieved data files......\n",
      "Finding Image Associations... \n",
      "Successfully written to output file. Check output folder for the json files... \n"
     ]
    }
   ],
   "source": [
    "#for the train data given:\n",
    "imagesFilePaths = getFiles('../data/images.txt')\n",
    "cropsFilePaths = getFiles('../data/crops.txt')\n",
    "\n",
    "output_filePath = '../output/result.json'\n",
    "\n",
    "findAssociations(imagesFilePaths, cropsFilePaths, output_filePath)"
   ]
  },
  {
   "cell_type": "code",
   "execution_count": null,
   "metadata": {},
   "outputs": [
    {
     "name": "stdout",
     "output_type": "stream",
     "text": [
      "Finding Image Associations... \n"
     ]
    }
   ],
   "source": [
    "#for the sample test data given:\n",
    "imagesFilePaths = os.listdir('../data/sample_testset/images/')\n",
    "cropsFilePaths = os.listdir('../data/sample_testset/crops/')\n",
    "\n",
    "imagesFilePaths = ['../data/sample_testset/images/' + filename for filename in imagesFilePaths]\n",
    "cropsFilePaths = ['../data/sample_testset/crops/' + filename for filename in cropsFilePaths]\n",
    "\n",
    "\n",
    "output_filePath = '../output/sample_testset/result.json'\n",
    "\n",
    "findAssociations(imagesFilePaths, cropsFilePaths, output_filePath)"
   ]
  },
  {
   "cell_type": "code",
   "execution_count": null,
   "metadata": {},
   "outputs": [],
   "source": [
    "#Evaluating the test data\n",
    "groundTruth_path = '../data/sample_testset/out_res.json'\n",
    "\n",
    "result_df = evaluateAssociations(output_filePath, groundTruth_path)\n",
    "\n",
    "result_df.describe()"
   ]
  },
  {
   "cell_type": "code",
   "execution_count": null,
   "metadata": {},
   "outputs": [],
   "source": []
  }
 ],
 "metadata": {
  "kernelspec": {
   "display_name": "Python 3",
   "language": "python",
   "name": "python3"
  },
  "language_info": {
   "codemirror_mode": {
    "name": "ipython",
    "version": 3
   },
   "file_extension": ".py",
   "mimetype": "text/x-python",
   "name": "python",
   "nbconvert_exporter": "python",
   "pygments_lexer": "ipython3",
   "version": "3.7.1"
  }
 },
 "nbformat": 4,
 "nbformat_minor": 2
}
